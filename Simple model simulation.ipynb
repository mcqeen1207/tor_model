{
 "cells": [
  {
   "cell_type": "code",
   "execution_count": null,
   "id": "24272ec7",
   "metadata": {},
   "outputs": [],
   "source": [
    "ENV[\"JULIA_PKG_SERVER\"] = \"https://jp.pkg.julialang.org\"\n",
    "\n",
    "using DifferentialEquations\n",
    "using Interpolations\n",
    "using Plots\n",
    "\n",
    "using LinearAlgebra\n",
    "\n",
    "using Pkg\n",
    "using CSV\n",
    "using DataFrames\n",
    "\n",
    "using Random"
   ]
  },
  {
   "cell_type": "code",
   "execution_count": null,
   "id": "16eaeff5",
   "metadata": {},
   "outputs": [],
   "source": [
    "T0 = 24\n",
    "GL_tilde(t) = 1.30604 + 0.227902 * sin((2*π/T0)*(t - 3.12764))\n",
    "TOR_tilde(t) = 1.01103 + 0.0244438 * sin((2*π/T0)*(t - 14.4926))"
   ]
  },
  {
   "cell_type": "code",
   "execution_count": null,
   "id": "b2662fca",
   "metadata": {},
   "outputs": [],
   "source": [
    "Growth_rate_data = CSV.read(\"GrowthRate.csv\", DataFrame)\n",
    "max_exp = maximum(Growth_rate_data.value)\n",
    "min_exp = minimum(Growth_rate_data.value)"
   ]
  },
  {
   "cell_type": "markdown",
   "id": "14d40634",
   "metadata": {},
   "source": [
    "# Define simple model"
   ]
  },
  {
   "cell_type": "code",
   "execution_count": null,
   "id": "7565fd42",
   "metadata": {},
   "outputs": [],
   "source": [
    "function Reduced(du,u,p,t)\n",
    "  # p[1]: Glucose\n",
    "#   p[2]: TOR total\n",
    "#   p[3]: X\n",
    "#   u[1]: TOR-\n",
    "  # u[2]: R\n",
    "    \n",
    "    n=2\n",
    "    TOR = p[2](t) - u[1]\n",
    "    du[1] = -p[4] * p[1](t) * u[1] + p[5] * TOR * (p[3](t-p[9]) + p[10]) - p[6] * u[1]\n",
    "    du[2] = p[7] + TOR^n / (p[8]^n + TOR^n)\n",
    "end"
   ]
  },
  {
   "cell_type": "code",
   "execution_count": null,
   "id": "a9cc4948",
   "metadata": {},
   "outputs": [],
   "source": [
    "tspan = (0,168)\n",
    "T0 = 24\n",
    "X = t -> 0.5 * cos(2 * (pi/T0)*t) + 0.5\n",
    "k_act_init = 1\n",
    "k_inact_init = 1\n",
    "d_TORm_init = 1\n",
    "g_init = 0.35 \n",
    "K_init = 1\n",
    "tau_init = 12\n",
    "B_init = 2\n",
    "\n",
    "p = (GL_tilde, TOR_tilde, X, k_act_init, k_inact_init, d_TORm_init, g_init, K_init, tau_init, B_init)\n",
    "\n",
    "u_0 = [0, 200]                       # initial state vector\n",
    "prob = ODEProblem(Reduced,u_0,tspan,p)\n",
    "fit = solve(prob,Vern9(lazy=false); saveat =0.1)"
   ]
  },
  {
   "cell_type": "markdown",
   "id": "13a0aa65",
   "metadata": {},
   "source": [
    "# Prameter generation"
   ]
  },
  {
   "cell_type": "code",
   "execution_count": null,
   "id": "b796569f",
   "metadata": {},
   "outputs": [],
   "source": [
    "using Random\n",
    "using Turing \n",
    "Random.seed!(14);\n",
    "\n",
    "L = 2500\n",
    "k_act = 10 .^ rand(Uniform(-1, 1), L)\n",
    "k_inact = 10 .^ rand(Uniform(-1, 1), L)\n",
    "d_TORm = 10 .^ rand(Uniform(-1,1),L)\n",
    "g = 10 .^ rand(Uniform(-1,1), L)\n",
    "K = 10 .^ rand(Uniform(-1,1),L)\n",
    "\n",
    "S = 500\n",
    "params = zeros(5,S)\n",
    "\n",
    "for i in 1:S\n",
    "    params[1,i] = k_act[rand(1:end)]\n",
    "    params[2,i] = k_inact[rand(1:end)]\n",
    "    params[3,i] = d_TORm[rand(1:end)]\n",
    "    params[4,i] = g[rand(1:end)]\n",
    "    params[5,i] = K[rand(1:end)]\n",
    "end"
   ]
  },
  {
   "cell_type": "code",
   "execution_count": null,
   "id": "1d734934",
   "metadata": {},
   "outputs": [],
   "source": [
    "tau_ = 5 * ones(S)\n",
    "Amp_ = 0.5 * ones(S)\n",
    "params_space = vcat(params, tau_', Amp_')\n",
    "\n",
    "prob_func = let p=p\n",
    "    (prob,i,repeat) -> begin\n",
    "        remake(prob, p=(GL_tilde, TOR_tilde, X, params_space[:,i]...))\n",
    "    end\n",
    "end\n",
    "\n",
    "@time begin\n",
    "ensemble_prob = EnsembleProblem(prob,prob_func=prob_func)\n",
    "sim = solve(ensemble_prob,Tsit5(), trajectories= S)\n",
    "end"
   ]
  },
  {
   "cell_type": "markdown",
   "id": "9afb0ead",
   "metadata": {},
   "source": [
    "# Calculate the error between simulation and experiment"
   ]
  },
  {
   "cell_type": "code",
   "execution_count": null,
   "id": "7033d9f7",
   "metadata": {},
   "outputs": [],
   "source": [
    "num = 50 \n",
    "time_points = Growth_rate_data.time\n",
    "time_diff = time_points[2] - time_points[1]\n",
    "matrix = zeros(S, length(time_points))\n",
    "\n",
    "tau = range(0, stop = 24, length = num)\n",
    "Amp = range(1/num, stop = 1, length = num)\n",
    "error = ones(num, num)\n",
    "error_temp = ones(S)\n",
    "\n",
    "@time begin\n",
    "for j in 1:num\n",
    "    for k in 1:num\n",
    "        prob_func = let p=p\n",
    "            (prob,i,repeat) -> begin\n",
    "                remake(prob, p=(GL_tilde, TOR_tilde, X, params[:,i]...,tau[j], 1/Amp[k] - 1))\n",
    "            end\n",
    "        end\n",
    "\n",
    "        @time begin\n",
    "        ensemble_prob = EnsembleProblem(prob,prob_func=prob_func)\n",
    "        sim = solve(ensemble_prob,BS3(), trajectories= S)\n",
    "        end\n",
    "\n",
    "        for i in 1:S\n",
    "            u0 = sim[i](time_points[1] + 120 - time_diff, idxs = 2)\n",
    "            u1 = sim[i](time_points[1] + 120, idxs = 2)\n",
    "            matrix[i,1] = (u1-u0)/time_diff\n",
    "            for t in 2:length(time_points)\n",
    "                u0 = sim[i](time_points[t-1] + 120, idxs = 2)\n",
    "                u1 = sim[i](time_points[t] + 120, idxs = 2)\n",
    "                dt = time_points[t] - time_points[t-1]\n",
    "                matrix[i,t] = (u1-u0)/dt\n",
    "            end\n",
    "        end\n",
    "\n",
    "        for i in 1:S\n",
    "            R_sim = matrix[i,:]\n",
    "            min_sim = minimum(R_sim)\n",
    "            max_sim = maximum(R_sim)\n",
    "            R_scale = ( (max_exp - min_exp) / (max_sim - min_sim) ) .* (R_sim .- min_sim) .+ min_exp\n",
    "            error_temp[i] = norm(R_scale - Growth_rate_data.value)\n",
    "        end\n",
    "        \n",
    "        error[j,k] = minimum(error_temp) * (1/sqrt(length(time_points)))\n",
    "        \n",
    "        print(join([j,\",\",k]))\n",
    "    end\n",
    "end\n",
    "end"
   ]
  }
 ],
 "metadata": {
  "kernelspec": {
   "display_name": "Julia 1.8.3",
   "language": "julia",
   "name": "julia-1.8"
  },
  "language_info": {
   "file_extension": ".jl",
   "mimetype": "application/julia",
   "name": "julia",
   "version": "1.8.3"
  }
 },
 "nbformat": 4,
 "nbformat_minor": 5
}
